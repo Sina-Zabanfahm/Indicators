{
  "nbformat": 4,
  "nbformat_minor": 0,
  "metadata": {
    "colab": {
      "provenance": []
    },
    "kernelspec": {
      "name": "python3",
      "display_name": "Python 3"
    },
    "language_info": {
      "name": "python"
    }
  },
  "cells": [
    {
      "cell_type": "code",
      "execution_count": 2,
      "metadata": {
        "id": "Q5JJ16Go4TPW"
      },
      "outputs": [],
      "source": [
        "import pandas as pd \n",
        "import numpy as np\n",
        "import yfinance as yf\n",
        "import matplotlib.pyplot as plt\n",
        "import seaborn as sns\n",
        "from datetime import date\n",
        "\n",
        "\n",
        "from statsmodels.tsa.stattools import adfuller\n"
      ]
    },
    {
      "cell_type": "code",
      "source": [
        "ticker = ['TSLA']\n",
        "start_date = \"2022-01-01\"\n",
        "end_date = date.today()\n",
        "\n",
        "data = yf.download(ticker, start_date,  end_date)['Close']\n",
        "data\n"
      ],
      "metadata": {
        "colab": {
          "base_uri": "https://localhost:8080/"
        },
        "id": "00TzjzfY4-qD",
        "outputId": "ec357803-9544-4aeb-e362-4f9795ad0e64"
      },
      "execution_count": 9,
      "outputs": [
        {
          "output_type": "stream",
          "name": "stdout",
          "text": [
            "\r[*********************100%***********************]  1 of 1 completed\n"
          ]
        },
        {
          "output_type": "execute_result",
          "data": {
            "text/plain": [
              "Date\n",
              "2022-01-03    399.926666\n",
              "2022-01-04    383.196655\n",
              "2022-01-05    362.706665\n",
              "2022-01-06    354.899994\n",
              "2022-01-07    342.320007\n",
              "                 ...    \n",
              "2023-05-30    201.160004\n",
              "2023-05-31    203.929993\n",
              "2023-06-01    207.520004\n",
              "2023-06-02    213.970001\n",
              "2023-06-05    217.610001\n",
              "Name: Close, Length: 357, dtype: float64"
            ]
          },
          "metadata": {},
          "execution_count": 9
        }
      ]
    },
    {
      "cell_type": "code",
      "source": [
        "data['pct_change'] = data['Close'].pct_change()*100"
      ],
      "metadata": {
        "id": "ckPija3k7SCi"
      },
      "execution_count": null,
      "outputs": []
    },
    {
      "cell_type": "code",
      "source": [
        "df = data[['Close','pct_change']]\n",
        "df.sample(10)"
      ],
      "metadata": {
        "colab": {
          "base_uri": "https://localhost:8080/",
          "height": 394
        },
        "id": "LSCHbqTLdUtw",
        "outputId": "fbb497a0-2a4a-47c0-ed8a-101c6a0bd77e"
      },
      "execution_count": null,
      "outputs": [
        {
          "output_type": "execute_result",
          "data": {
            "text/plain": [
              "                 Close  pct_change\n",
              "Date                              \n",
              "2023-04-05  185.520004   -3.666008\n",
              "2022-03-02  293.296661    1.795530\n",
              "2022-01-25  306.133331   -1.247312\n",
              "2023-03-27  191.809998    0.735252\n",
              "2022-02-22  273.843323   -4.136624\n",
              "2022-07-06  231.733337   -0.572080\n",
              "2022-05-26  235.910004    7.427139\n",
              "2022-12-15  157.669998    0.554844\n",
              "2023-04-25  160.669998   -1.156570\n",
              "2022-05-06  288.549988   -0.873718"
            ],
            "text/html": [
              "\n",
              "  <div id=\"df-fc6d5071-d1d5-4950-9896-1a5b1f35c05a\">\n",
              "    <div class=\"colab-df-container\">\n",
              "      <div>\n",
              "<style scoped>\n",
              "    .dataframe tbody tr th:only-of-type {\n",
              "        vertical-align: middle;\n",
              "    }\n",
              "\n",
              "    .dataframe tbody tr th {\n",
              "        vertical-align: top;\n",
              "    }\n",
              "\n",
              "    .dataframe thead th {\n",
              "        text-align: right;\n",
              "    }\n",
              "</style>\n",
              "<table border=\"1\" class=\"dataframe\">\n",
              "  <thead>\n",
              "    <tr style=\"text-align: right;\">\n",
              "      <th></th>\n",
              "      <th>Close</th>\n",
              "      <th>pct_change</th>\n",
              "    </tr>\n",
              "    <tr>\n",
              "      <th>Date</th>\n",
              "      <th></th>\n",
              "      <th></th>\n",
              "    </tr>\n",
              "  </thead>\n",
              "  <tbody>\n",
              "    <tr>\n",
              "      <th>2023-04-05</th>\n",
              "      <td>185.520004</td>\n",
              "      <td>-3.666008</td>\n",
              "    </tr>\n",
              "    <tr>\n",
              "      <th>2022-03-02</th>\n",
              "      <td>293.296661</td>\n",
              "      <td>1.795530</td>\n",
              "    </tr>\n",
              "    <tr>\n",
              "      <th>2022-01-25</th>\n",
              "      <td>306.133331</td>\n",
              "      <td>-1.247312</td>\n",
              "    </tr>\n",
              "    <tr>\n",
              "      <th>2023-03-27</th>\n",
              "      <td>191.809998</td>\n",
              "      <td>0.735252</td>\n",
              "    </tr>\n",
              "    <tr>\n",
              "      <th>2022-02-22</th>\n",
              "      <td>273.843323</td>\n",
              "      <td>-4.136624</td>\n",
              "    </tr>\n",
              "    <tr>\n",
              "      <th>2022-07-06</th>\n",
              "      <td>231.733337</td>\n",
              "      <td>-0.572080</td>\n",
              "    </tr>\n",
              "    <tr>\n",
              "      <th>2022-05-26</th>\n",
              "      <td>235.910004</td>\n",
              "      <td>7.427139</td>\n",
              "    </tr>\n",
              "    <tr>\n",
              "      <th>2022-12-15</th>\n",
              "      <td>157.669998</td>\n",
              "      <td>0.554844</td>\n",
              "    </tr>\n",
              "    <tr>\n",
              "      <th>2023-04-25</th>\n",
              "      <td>160.669998</td>\n",
              "      <td>-1.156570</td>\n",
              "    </tr>\n",
              "    <tr>\n",
              "      <th>2022-05-06</th>\n",
              "      <td>288.549988</td>\n",
              "      <td>-0.873718</td>\n",
              "    </tr>\n",
              "  </tbody>\n",
              "</table>\n",
              "</div>\n",
              "      <button class=\"colab-df-convert\" onclick=\"convertToInteractive('df-fc6d5071-d1d5-4950-9896-1a5b1f35c05a')\"\n",
              "              title=\"Convert this dataframe to an interactive table.\"\n",
              "              style=\"display:none;\">\n",
              "        \n",
              "  <svg xmlns=\"http://www.w3.org/2000/svg\" height=\"24px\"viewBox=\"0 0 24 24\"\n",
              "       width=\"24px\">\n",
              "    <path d=\"M0 0h24v24H0V0z\" fill=\"none\"/>\n",
              "    <path d=\"M18.56 5.44l.94 2.06.94-2.06 2.06-.94-2.06-.94-.94-2.06-.94 2.06-2.06.94zm-11 1L8.5 8.5l.94-2.06 2.06-.94-2.06-.94L8.5 2.5l-.94 2.06-2.06.94zm10 10l.94 2.06.94-2.06 2.06-.94-2.06-.94-.94-2.06-.94 2.06-2.06.94z\"/><path d=\"M17.41 7.96l-1.37-1.37c-.4-.4-.92-.59-1.43-.59-.52 0-1.04.2-1.43.59L10.3 9.45l-7.72 7.72c-.78.78-.78 2.05 0 2.83L4 21.41c.39.39.9.59 1.41.59.51 0 1.02-.2 1.41-.59l7.78-7.78 2.81-2.81c.8-.78.8-2.07 0-2.86zM5.41 20L4 18.59l7.72-7.72 1.47 1.35L5.41 20z\"/>\n",
              "  </svg>\n",
              "      </button>\n",
              "      \n",
              "  <style>\n",
              "    .colab-df-container {\n",
              "      display:flex;\n",
              "      flex-wrap:wrap;\n",
              "      gap: 12px;\n",
              "    }\n",
              "\n",
              "    .colab-df-convert {\n",
              "      background-color: #E8F0FE;\n",
              "      border: none;\n",
              "      border-radius: 50%;\n",
              "      cursor: pointer;\n",
              "      display: none;\n",
              "      fill: #1967D2;\n",
              "      height: 32px;\n",
              "      padding: 0 0 0 0;\n",
              "      width: 32px;\n",
              "    }\n",
              "\n",
              "    .colab-df-convert:hover {\n",
              "      background-color: #E2EBFA;\n",
              "      box-shadow: 0px 1px 2px rgba(60, 64, 67, 0.3), 0px 1px 3px 1px rgba(60, 64, 67, 0.15);\n",
              "      fill: #174EA6;\n",
              "    }\n",
              "\n",
              "    [theme=dark] .colab-df-convert {\n",
              "      background-color: #3B4455;\n",
              "      fill: #D2E3FC;\n",
              "    }\n",
              "\n",
              "    [theme=dark] .colab-df-convert:hover {\n",
              "      background-color: #434B5C;\n",
              "      box-shadow: 0px 1px 3px 1px rgba(0, 0, 0, 0.15);\n",
              "      filter: drop-shadow(0px 1px 2px rgba(0, 0, 0, 0.3));\n",
              "      fill: #FFFFFF;\n",
              "    }\n",
              "  </style>\n",
              "\n",
              "      <script>\n",
              "        const buttonEl =\n",
              "          document.querySelector('#df-fc6d5071-d1d5-4950-9896-1a5b1f35c05a button.colab-df-convert');\n",
              "        buttonEl.style.display =\n",
              "          google.colab.kernel.accessAllowed ? 'block' : 'none';\n",
              "\n",
              "        async function convertToInteractive(key) {\n",
              "          const element = document.querySelector('#df-fc6d5071-d1d5-4950-9896-1a5b1f35c05a');\n",
              "          const dataTable =\n",
              "            await google.colab.kernel.invokeFunction('convertToInteractive',\n",
              "                                                     [key], {});\n",
              "          if (!dataTable) return;\n",
              "\n",
              "          const docLinkHtml = 'Like what you see? Visit the ' +\n",
              "            '<a target=\"_blank\" href=https://colab.research.google.com/notebooks/data_table.ipynb>data table notebook</a>'\n",
              "            + ' to learn more about interactive tables.';\n",
              "          element.innerHTML = '';\n",
              "          dataTable['output_type'] = 'display_data';\n",
              "          await google.colab.output.renderOutput(dataTable, element);\n",
              "          const docLink = document.createElement('div');\n",
              "          docLink.innerHTML = docLinkHtml;\n",
              "          element.appendChild(docLink);\n",
              "        }\n",
              "      </script>\n",
              "    </div>\n",
              "  </div>\n",
              "  "
            ]
          },
          "metadata": {},
          "execution_count": 97
        }
      ]
    },
    {
      "cell_type": "code",
      "source": [
        "class Indicator:\n",
        "\n",
        "    def __init__ (self, data, start_date, end_date, ticker):\n",
        "        self.ticker = ticker\n",
        "        self.data = yf.download([self.ticker], start_date, end_date)['Close']\n",
        "        self.start_date =  self.data.index[0].strftime(\"%Y-%m-%d\")\n",
        "        self.end_date = self.data.index[-1].strftime(\"%Y-%m-%d\")\n",
        "        self.cost = [0]\n",
        "        self.benefit = []\n",
        "        self.have = 0\n",
        "        self.budget = 1000\n",
        "        self.total = []\n",
        "\n",
        "    def SMA(self, window = 50):\n",
        "\n",
        "        rolling_mean = self.data.rolling(window).mean()\n",
        "        plt.figure(figsize = (10,6))\n",
        "        return rolling_mean\n",
        "\n",
        "    def EMA(self, k = 2):\n",
        "\n",
        "        alpha = 2/(k+1)\n",
        "        S = np.repeat(0, len(self.data))\n",
        "        S = pd.Series(S)\n",
        "        for i in range (1, len(self.data)):\n",
        "            S[i] = alpha*self.data[i] + (1-alpha)*S[i-1]\n",
        "        S.index = pd.to_datetime(self.data.index)\n",
        "        return S\n",
        "\n",
        "    def smooth_plot(self, smoothed, name = \"\", k=2):\n",
        "\n",
        "        plt.plot(self.data, label = f'Close Prices of {self.ticker}')\n",
        "        plt.plot(S, label = f'{type} with lookback {k}')\n",
        "        plt.plot(self.data - S, label = 'Closing prices - EMA')\n",
        "        plt.title(f'Stock Prices vs. {type}')\n",
        "        plt.xlabel('Date')\n",
        "        plt.legend()\n",
        "        plt.show()\n",
        "\n",
        "\n",
        "    def entropy(self, x):\n",
        "        from scipy.stats import entropy\n",
        "\n",
        "        n = len(x)\n",
        "\n",
        "        if n>=10000:\n",
        "          nbins = 20\n",
        "        elif n>=1000:\n",
        "          nbins = 10\n",
        "        elif n>=100:\n",
        "          nbins = 5\n",
        "        else:\n",
        "          nbins = 3\n",
        "        \n",
        "        counts, bin_edges = np.histogram(x, bins=nbins)\n",
        "\n",
        "        probabilities = counts / np.sum(counts)\n",
        "\n",
        "        entropy_value = entropy(probabilities, base=2)\n",
        "\n",
        "        return entropy_value\n",
        "\n",
        "\n",
        "    \n",
        "\n",
        "         "
      ],
      "metadata": {
        "id": "aaOAyAv662U6"
      },
      "execution_count": 10,
      "outputs": []
    },
    {
      "cell_type": "code",
      "source": [
        "start_date = \"2022-01-01\"\n",
        "end_date = \"2022-07-01\"\n",
        "indicator = Indicator(data,start_date, end_date,'DNN')\n",
        "\n",
        "S = indicator.EMA(10)\n",
        "indicator.smooth_plot(S,'EMA',10)\n",
        "\n",
        "indicator.entropy([1,2,3])\n"
      ],
      "metadata": {
        "id": "-u3Si8BnCCcT"
      },
      "execution_count": null,
      "outputs": []
    },
    {
      "cell_type": "code",
      "source": [
        "\n"
      ],
      "metadata": {
        "colab": {
          "base_uri": "https://localhost:8080/",
          "height": 506
        },
        "id": "2eL-Xy0Q7y7M",
        "outputId": "1299332d-c912-492c-bb52-0727bfde4227"
      },
      "execution_count": 12,
      "outputs": [
        {
          "output_type": "stream",
          "name": "stdout",
          "text": [
            "\r[*********************100%***********************]  1 of 1 completed\n"
          ]
        },
        {
          "output_type": "display_data",
          "data": {
            "text/plain": [
              "<Figure size 640x480 with 1 Axes>"
            ],
            "image/png": "[encoded data removed]"
          },
          "metadata": {}
        },
        {
          "output_type": "execute_result",
          "data": {
            "text/plain": [
              "1.584962500721156"
            ]
          },
          "metadata": {},
          "execution_count": 12
        }
      ]
    },
    {
      "cell_type": "code",
      "source": [],
      "metadata": {
        "colab": {
          "base_uri": "https://localhost:8080/",
          "height": 454
        },
        "id": "2Fm6uRJXcsHa",
        "outputId": "784314df-9e98-4603-9b7e-46e014dc3020"
      },
      "execution_count": null,
      "outputs": [
        {
          "output_type": "execute_result",
          "data": {
            "text/plain": [
              "                                                                 Close\n",
              "Date                                                                  \n",
              "2023-01-03 00:00:00                                            0.10436\n",
              "2023-01-04 00:00:00                                           0.122218\n",
              "2023-01-05 00:00:00                                           0.113329\n",
              "2023-01-06 00:00:00                                           0.198851\n",
              "2023-01-09 00:00:00                                           0.262364\n",
              "...                                                                ...\n",
              "2023-05-26 00:00:00                                           0.058269\n",
              "2023-05-30 00:00:00                                           0.029559\n",
              "2023-05-31 00:00:00                                           0.076961\n",
              "2023-06-01 00:00:00                                            0.14842\n",
              "pct_change           Date\n",
              "2023-01-03         NaN\n",
              "2023-01-04    0.17...\n",
              "\n",
              "[105 rows x 1 columns]"
            ],
            "text/html": [
              "\n",
              "  <div id=\"df-e22d56a7-f6b1-4a04-bba6-c905716c677c\">\n",
              "    <div class=\"colab-df-container\">\n",
              "      <div>\n",
              "<style scoped>\n",
              "    .dataframe tbody tr th:only-of-type {\n",
              "        vertical-align: middle;\n",
              "    }\n",
              "\n",
              "    .dataframe tbody tr th {\n",
              "        vertical-align: top;\n",
              "    }\n",
              "\n",
              "    .dataframe thead th {\n",
              "        text-align: right;\n",
              "    }\n",
              "</style>\n",
              "<table border=\"1\" class=\"dataframe\">\n",
              "  <thead>\n",
              "    <tr style=\"text-align: right;\">\n",
              "      <th></th>\n",
              "      <th>Close</th>\n",
              "    </tr>\n",
              "    <tr>\n",
              "      <th>Date</th>\n",
              "      <th></th>\n",
              "    </tr>\n",
              "  </thead>\n",
              "  <tbody>\n",
              "    <tr>\n",
              "      <th>2023-01-03 00:00:00</th>\n",
              "      <td>0.10436</td>\n",
              "    </tr>\n",
              "    <tr>\n",
              "      <th>2023-01-04 00:00:00</th>\n",
              "      <td>0.122218</td>\n",
              "    </tr>\n",
              "    <tr>\n",
              "      <th>2023-01-05 00:00:00</th>\n",
              "      <td>0.113329</td>\n",
              "    </tr>\n",
              "    <tr>\n",
              "      <th>2023-01-06 00:00:00</th>\n",
              "      <td>0.198851</td>\n",
              "    </tr>\n",
              "    <tr>\n",
              "      <th>2023-01-09 00:00:00</th>\n",
              "      <td>0.262364</td>\n",
              "    </tr>\n",
              "    <tr>\n",
              "      <th>...</th>\n",
              "      <td>...</td>\n",
              "    </tr>\n",
              "    <tr>\n",
              "      <th>2023-05-26 00:00:00</th>\n",
              "      <td>0.058269</td>\n",
              "    </tr>\n",
              "    <tr>\n",
              "      <th>2023-05-30 00:00:00</th>\n",
              "      <td>0.029559</td>\n",
              "    </tr>\n",
              "    <tr>\n",
              "      <th>2023-05-31 00:00:00</th>\n",
              "      <td>0.076961</td>\n",
              "    </tr>\n",
              "    <tr>\n",
              "      <th>2023-06-01 00:00:00</th>\n",
              "      <td>0.14842</td>\n",
              "    </tr>\n",
              "    <tr>\n",
              "      <th>pct_change</th>\n",
              "      <td>Date\n",
              "2023-01-03         NaN\n",
              "2023-01-04    0.17...</td>\n",
              "    </tr>\n",
              "  </tbody>\n",
              "</table>\n",
              "<p>105 rows × 1 columns</p>\n",
              "</div>\n",
              "      <button class=\"colab-df-convert\" onclick=\"convertToInteractive('df-e22d56a7-f6b1-4a04-bba6-c905716c677c')\"\n",
              "              title=\"Convert this dataframe to an interactive table.\"\n",
              "              style=\"display:none;\">\n",
              "        \n",
              "  <svg xmlns=\"http://www.w3.org/2000/svg\" height=\"24px\"viewBox=\"0 0 24 24\"\n",
              "       width=\"24px\">\n",
              "    <path d=\"M0 0h24v24H0V0z\" fill=\"none\"/>\n",
              "    <path d=\"M18.56 5.44l.94 2.06.94-2.06 2.06-.94-2.06-.94-.94-2.06-.94 2.06-2.06.94zm-11 1L8.5 8.5l.94-2.06 2.06-.94-2.06-.94L8.5 2.5l-.94 2.06-2.06.94zm10 10l.94 2.06.94-2.06 2.06-.94-2.06-.94-.94-2.06-.94 2.06-2.06.94z\"/><path d=\"M17.41 7.96l-1.37-1.37c-.4-.4-.92-.59-1.43-.59-.52 0-1.04.2-1.43.59L10.3 9.45l-7.72 7.72c-.78.78-.78 2.05 0 2.83L4 21.41c.39.39.9.59 1.41.59.51 0 1.02-.2 1.41-.59l7.78-7.78 2.81-2.81c.8-.78.8-2.07 0-2.86zM5.41 20L4 18.59l7.72-7.72 1.47 1.35L5.41 20z\"/>\n",
              "  </svg>\n",
              "      </button>\n",
              "      \n",
              "  <style>\n",
              "    .colab-df-container {\n",
              "      display:flex;\n",
              "      flex-wrap:wrap;\n",
              "      gap: 12px;\n",
              "    }\n",
              "\n",
              "    .colab-df-convert {\n",
              "      background-color: #E8F0FE;\n",
              "      border: none;\n",
              "      border-radius: 50%;\n",
              "      cursor: pointer;\n",
              "      display: none;\n",
              "      fill: #1967D2;\n",
              "      height: 32px;\n",
              "      padding: 0 0 0 0;\n",
              "      width: 32px;\n",
              "    }\n",
              "\n",
              "    .colab-df-convert:hover {\n",
              "      background-color: #E2EBFA;\n",
              "      box-shadow: 0px 1px 2px rgba(60, 64, 67, 0.3), 0px 1px 3px 1px rgba(60, 64, 67, 0.15);\n",
              "      fill: #174EA6;\n",
              "    }\n",
              "\n",
              "    [theme=dark] .colab-df-convert {\n",
              "      background-color: #3B4455;\n",
              "      fill: #D2E3FC;\n",
              "    }\n",
              "\n",
              "    [theme=dark] .colab-df-convert:hover {\n",
              "      background-color: #434B5C;\n",
              "      box-shadow: 0px 1px 3px 1px rgba(0, 0, 0, 0.15);\n",
              "      filter: drop-shadow(0px 1px 2px rgba(0, 0, 0, 0.3));\n",
              "      fill: #FFFFFF;\n",
              "    }\n",
              "  </style>\n",
              "\n",
              "      <script>\n",
              "        const buttonEl =\n",
              "          document.querySelector('#df-e22d56a7-f6b1-4a04-bba6-c905716c677c button.colab-df-convert');\n",
              "        buttonEl.style.display =\n",
              "          google.colab.kernel.accessAllowed ? 'block' : 'none';\n",
              "\n",
              "        async function convertToInteractive(key) {\n",
              "          const element = document.querySelector('#df-e22d56a7-f6b1-4a04-bba6-c905716c677c');\n",
              "          const dataTable =\n",
              "            await google.colab.kernel.invokeFunction('convertToInteractive',\n",
              "                                                     [key], {});\n",
              "          if (!dataTable) return;\n",
              "\n",
              "          const docLinkHtml = 'Like what you see? Visit the ' +\n",
              "            '<a target=\"_blank\" href=https://colab.research.google.com/notebooks/data_table.ipynb>data table notebook</a>'\n",
              "            + ' to learn more about interactive tables.';\n",
              "          element.innerHTML = '';\n",
              "          dataTable['output_type'] = 'display_data';\n",
              "          await google.colab.output.renderOutput(dataTable, element);\n",
              "          const docLink = document.createElement('div');\n",
              "          docLink.innerHTML = docLinkHtml;\n",
              "          element.appendChild(docLink);\n",
              "        }\n",
              "      </script>\n",
              "    </div>\n",
              "  </div>\n",
              "  "
            ]
          },
          "metadata": {},
          "execution_count": 62
        }
      ]
    },
    {
      "cell_type": "code",
      "source": [
        "data.pct_change().fillna(0).mean()"
      ],
      "metadata": {
        "colab": {
          "base_uri": "https://localhost:8080/"
        },
        "id": "a8U-q-SRc2Gm",
        "outputId": "5cfd9ba7-e874-440f-8cf3-9261fd54077b"
      },
      "execution_count": null,
      "outputs": [
        {
          "output_type": "execute_result",
          "data": {
            "text/plain": [
              "Open         -0.000857\n",
              "High         -0.001212\n",
              "Low          -0.001062\n",
              "Close        -0.001020\n",
              "Adj Close    -0.001020\n",
              "Volume        0.027138\n",
              "pct_change         inf\n",
              "dtype: float64"
            ]
          },
          "metadata": {},
          "execution_count": 98
        }
      ]
    },
    {
      "cell_type": "code",
      "source": [],
      "metadata": {
        "colab": {
          "base_uri": "https://localhost:8080/"
        },
        "id": "ppCfCa_DVaNg",
        "outputId": "274a2ad9-db84-4b6c-a8ca-f8b5cfbed571"
      },
      "execution_count": null,
      "outputs": [
        {
          "output_type": "stream",
          "name": "stdout",
          "text": [
            "[971.039981842041, 1019.6999716758728, 970.2000093460083, 989.4000291824341, 1030.1999807357788, 1047.2000226974487, 990.3600393533707, 979.6999907493591, 1039.9999618530273, 980.5599727630615, 971.3599643707275, 989.3999814987183, 1009.7999811172485, 1009.3999719619751, 1049.3999433517456, 1028.1999444961548, 1047.600041627884]\n",
            "20 : 131.00999283790588\n"
          ]
        },
        {
          "output_type": "execute_result",
          "data": {
            "text/plain": [
              "131.00999283790588"
            ]
          },
          "metadata": {},
          "execution_count": 334
        }
      ]
    }
  ]
}